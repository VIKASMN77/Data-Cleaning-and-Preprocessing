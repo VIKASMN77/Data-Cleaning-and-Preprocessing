{
  "nbformat": 4,
  "nbformat_minor": 0,
  "metadata": {
    "colab": {
      "provenance": [],
      "authorship_tag": "ABX9TyNg3q4et7S5TBFPH0lO54q+",
      "include_colab_link": true
    },
    "kernelspec": {
      "name": "python3",
      "display_name": "Python 3"
    },
    "language_info": {
      "name": "python"
    }
  },
  "cells": [
    {
      "cell_type": "markdown",
      "metadata": {
        "id": "view-in-github",
        "colab_type": "text"
      },
      "source": [
        "<a href=\"https://colab.research.google.com/github/VIKASMN77/Data-Cleaning-and-Preprocessing/blob/main/Datacleaning.ipynb\" target=\"_parent\"><img src=\"https://colab.research.google.com/assets/colab-badge.svg\" alt=\"Open In Colab\"/></a>"
      ]
    },
    {
      "cell_type": "code",
      "execution_count": 1,
      "metadata": {
        "colab": {
          "base_uri": "https://localhost:8080/"
        },
        "id": "sUWLUWsmx_ej",
        "outputId": "a790475a-707d-4e6b-bf80-f258023b38f6"
      },
      "outputs": [
        {
          "output_type": "stream",
          "name": "stdout",
          "text": [
            "Downloading from https://www.kaggle.com/api/v1/datasets/download/mdsadikujjamanshihab/sales-dataset?dataset_version_number=1...\n"
          ]
        },
        {
          "output_type": "stream",
          "name": "stderr",
          "text": [
            "100%|██████████| 143k/143k [00:00<00:00, 624kB/s]"
          ]
        },
        {
          "output_type": "stream",
          "name": "stdout",
          "text": [
            "Extracting files...\n",
            "Path to dataset files: /root/.cache/kagglehub/datasets/mdsadikujjamanshihab/sales-dataset/versions/1\n"
          ]
        },
        {
          "output_type": "stream",
          "name": "stderr",
          "text": [
            "\n"
          ]
        }
      ],
      "source": [
        "import kagglehub\n",
        "\n",
        "# Download latest version\n",
        "path = kagglehub.dataset_download(\"mdsadikujjamanshihab/sales-dataset\")\n",
        "\n",
        "print(\"Path to dataset files:\", path)"
      ]
    },
    {
      "cell_type": "code",
      "source": [
        "import os\n",
        "\n",
        "# List files in the downloaded dataset path\n",
        "print(os.listdir(path))\n"
      ],
      "metadata": {
        "colab": {
          "base_uri": "https://localhost:8080/"
        },
        "id": "hjqNBwqYyX6t",
        "outputId": "b5c5b1be-f9d7-45da-85a4-ef6a0cdda662"
      },
      "execution_count": 5,
      "outputs": [
        {
          "output_type": "stream",
          "name": "stdout",
          "text": [
            "['synthetic_sales_data.csv']\n"
          ]
        }
      ]
    },
    {
      "cell_type": "code",
      "source": [
        "import pandas as pd\n",
        "import os\n",
        "\n",
        "# Correct file path\n",
        "csv_file = os.path.join(path, \"synthetic_sales_data.csv\")\n",
        "\n",
        "# Load the dataset\n",
        "df = pd.read_csv(csv_file)\n",
        "\n",
        "# Preview\n",
        "print(df.head(10))\n",
        "\n"
      ],
      "metadata": {
        "colab": {
          "base_uri": "https://localhost:8080/"
        },
        "id": "jDdgghwsyhtF",
        "outputId": "04704d93-6854-484c-d3d4-4912a8a29104"
      },
      "execution_count": 28,
      "outputs": [
        {
          "output_type": "stream",
          "name": "stdout",
          "text": [
            "  TransactionID        Date      Time CustomerID ProductID     ProductName  \\\n",
            "0      TRN00001   8/18/2023   2:25:00    CUS0802   PROD016        Keyboard   \n",
            "1      TRN00002   6/11/2023  19:13:00    CUS0933   PROD017        Keyboard   \n",
            "2      TRN00003  10/16/2024  16:24:00    CUS0054   PROD003         Monitor   \n",
            "3      TRN00004   6/23/2023  20:08:00    CUS0872   PROD009  Software Suite   \n",
            "4      TRN00005    7/9/2024  14:39:00    CUS0376   PROD001      Headphones   \n",
            "5      TRN00006    6/6/2023  18:19:00    CUS0166   PROD014      Headphones   \n",
            "6      TRN00007  10/30/2024   4:53:00    CUS0405   PROD017         Monitor   \n",
            "7      TRN00008   6/14/2024   2:12:00    CUS0910   PROD001  Software Suite   \n",
            "8      TRN00009  11/19/2023  15:28:00    CUS0923   PROD008          Webcam   \n",
            "9      TRN00010    9/1/2024  20:51:00    CUS0128   PROD001      Headphones   \n",
            "\n",
            "      Category  Quantity  UnitPrice  DiscountApplied  TotalPrice  \\\n",
            "0  Peripherals         2      38.03             0.24       57.81   \n",
            "1  Peripherals         3      94.34             0.11      251.89   \n",
            "2  Peripherals         4     300.77             0.11     1070.74   \n",
            "3     Software         4     380.02             0.03     1474.48   \n",
            "4  Accessories         2      38.26             0.28       55.09   \n",
            "5  Accessories         3     166.11             0.14      428.56   \n",
            "6  Peripherals         1     483.37             0.13      420.53   \n",
            "7     Software         6     288.30             0.16     1453.03   \n",
            "8  Accessories         4     136.96             0.26      405.40   \n",
            "9  Accessories         6     117.91             0.13      615.49   \n",
            "\n",
            "     PaymentMethod   Region SalespersonID  CustomerAge     CustomerGender  \n",
            "0             Cash    North         SP022         47.0  Prefer Not to Say  \n",
            "1  Online Transfer     West         SP064         40.0              Other  \n",
            "2      Credit Card  Central         SP064         39.0  Prefer Not to Say  \n",
            "3      Credit Card     West         SP100         52.0              Other  \n",
            "4  Online Transfer  Central         SP054         47.0             Female  \n",
            "5             Cash    North         SP076         39.0             Female  \n",
            "6  Online Transfer     West         SP094         51.0              Other  \n",
            "7             Cash    North         SP051         36.0               Male  \n",
            "8      Credit Card     West         SP047          NaN              Other  \n",
            "9       Debit Card    North         SP087         21.0             Female  \n"
          ]
        }
      ]
    },
    {
      "cell_type": "code",
      "source": [
        "# See how many nulls in each column\n",
        "print(df.isnull().sum())\n",
        "\n",
        "# Option 1: Drop missing values (simplest)\n",
        "df = df.dropna()\n",
        "\n",
        "\n"
      ],
      "metadata": {
        "colab": {
          "base_uri": "https://localhost:8080/"
        },
        "id": "-NdM7NayzNQg",
        "outputId": "0abe97f1-b868-4200-97f0-0bf768c90e39"
      },
      "execution_count": 13,
      "outputs": [
        {
          "output_type": "stream",
          "name": "stdout",
          "text": [
            "TransactionID       0\n",
            "Date                0\n",
            "Time                0\n",
            "CustomerID          0\n",
            "ProductID           0\n",
            "ProductName         0\n",
            "Category            0\n",
            "Quantity            0\n",
            "UnitPrice           0\n",
            "DiscountApplied     0\n",
            "TotalPrice          0\n",
            "PaymentMethod       0\n",
            "Region              0\n",
            "SalespersonID       0\n",
            "CustomerAge        79\n",
            "CustomerGender     67\n",
            "dtype: int64\n"
          ]
        }
      ]
    },
    {
      "cell_type": "code",
      "source": [
        "df = df.drop_duplicates()\n",
        "# Example for 'Gender' column (change if different)\n",
        "if 'Gender' in df.columns or 'gender' in df.columns:\n",
        "    col = 'Gender' if 'Gender' in df.columns else 'gender'\n",
        "    df[col] = df[col].str.lower().str.strip().replace({'male': 'Male', 'female': 'Female'})\n",
        "# Automatically convert columns with 'date' in their name\n",
        "for col in df.columns:\n",
        "    if 'date' in col.lower():\n",
        "        df[col] = pd.to_datetime(df[col], errors='coerce')\n",
        "\n",
        "\n",
        "df.columns = df.columns.str.lower().str.strip().str.replace(\" \", \"_\")\n",
        "# Example: make sure 'quantity' and 'price' are numeric\n",
        "if 'quantity' in df.columns:\n",
        "    df['quantity'] = pd.to_numeric(df['quantity'], errors='coerce')\n",
        "if 'unit_price' in df.columns:\n",
        "    df['unit_price'] = pd.to_numeric(df['unit_price'], errors='coerce')\n",
        "\n",
        "# Remove rows where conversion failed\n",
        "df = df.dropna()\n"
      ],
      "metadata": {
        "id": "E8XHvCTa0KTA"
      },
      "execution_count": 18,
      "outputs": []
    },
    {
      "cell_type": "code",
      "source": [
        "df.to_csv(\"cleaned_sales_data.csv\", index=False)\n",
        "print(\"Cleaned data saved as 'cleaned_sales_data.csv'\")\n"
      ],
      "metadata": {
        "colab": {
          "base_uri": "https://localhost:8080/"
        },
        "id": "mTscrJwr0KIE",
        "outputId": "c75d3dde-0990-4796-83b3-18b73171de17"
      },
      "execution_count": 19,
      "outputs": [
        {
          "output_type": "stream",
          "name": "stdout",
          "text": [
            "Cleaned data saved as 'cleaned_sales_data.csv'\n"
          ]
        }
      ]
    },
    {
      "cell_type": "code",
      "source": [
        "import pandas as pd\n",
        "\n",
        "# Load the cleaned CSV\n",
        "df_cleaned = pd.read_csv(\"cleaned_sales_data.csv\")\n",
        "\n",
        "# Print the first few rows\n",
        "print(df_cleaned.head(20))\n"
      ],
      "metadata": {
        "colab": {
          "base_uri": "https://localhost:8080/"
        },
        "id": "S7Mym8zA0vYs",
        "outputId": "5990286c-221e-42fd-d97a-82f121f803bd"
      },
      "execution_count": 25,
      "outputs": [
        {
          "output_type": "stream",
          "name": "stdout",
          "text": [
            "   transactionid        date      time customerid productid     productname  \\\n",
            "0       TRN00001  2023-08-18   2:25:00    CUS0802   PROD016        Keyboard   \n",
            "1       TRN00002  2023-06-11  19:13:00    CUS0933   PROD017        Keyboard   \n",
            "2       TRN00003  2024-10-16  16:24:00    CUS0054   PROD003         Monitor   \n",
            "3       TRN00004  2023-06-23  20:08:00    CUS0872   PROD009  Software Suite   \n",
            "4       TRN00005  2024-07-09  14:39:00    CUS0376   PROD001      Headphones   \n",
            "5       TRN00006  2023-06-06  18:19:00    CUS0166   PROD014      Headphones   \n",
            "6       TRN00007  2024-10-30   4:53:00    CUS0405   PROD017         Monitor   \n",
            "7       TRN00008  2024-06-14   2:12:00    CUS0910   PROD001  Software Suite   \n",
            "8       TRN00010  2024-09-01  20:51:00    CUS0128   PROD001      Headphones   \n",
            "9       TRN00011  2024-05-23   9:18:00    CUS0273   PROD013  Software Suite   \n",
            "10      TRN00012  2024-10-18   7:28:00    CUS0106   PROD001          Tablet   \n",
            "11      TRN00013  2024-06-21  10:26:00    CUS0300   PROD013         Monitor   \n",
            "12      TRN00014  2024-12-17  18:30:00    CUS0113   PROD012  Software Suite   \n",
            "13      TRN00015  2024-09-28  15:04:00    CUS0609   PROD007         Monitor   \n",
            "14      TRN00017  2023-07-30   0:43:00    CUS0270   PROD002           Mouse   \n",
            "15      TRN00018  2023-03-18   1:54:00    CUS0818   PROD003         Monitor   \n",
            "16      TRN00019  2023-12-15  18:46:00    CUS0884   PROD002  Software Suite   \n",
            "17      TRN00020  2023-09-05   7:45:00    CUS0493   PROD006          Laptop   \n",
            "18      TRN00021  2023-09-01  22:58:00    CUS0413   PROD009        Keyboard   \n",
            "19      TRN00022  2024-11-07  21:20:00    CUS0289   PROD006         Monitor   \n",
            "\n",
            "       category  quantity  unitprice  discountapplied  totalprice  \\\n",
            "0   Peripherals         2      38.03             0.24       57.81   \n",
            "1   Peripherals         3      94.34             0.11      251.89   \n",
            "2   Peripherals         4     300.77             0.11     1070.74   \n",
            "3      Software         4     380.02             0.03     1474.48   \n",
            "4   Accessories         2      38.26             0.28       55.09   \n",
            "5   Accessories         3     166.11             0.14      428.56   \n",
            "6   Peripherals         1     483.37             0.13      420.53   \n",
            "7      Software         6     288.30             0.16     1453.03   \n",
            "8   Accessories         6     117.91             0.13      615.49   \n",
            "9      Software         2     380.95             0.03      739.04   \n",
            "10  Electronics         3     505.16             0.03     1470.02   \n",
            "11  Peripherals         4     104.55             0.25      313.65   \n",
            "12     Software         3     199.56             0.10      538.81   \n",
            "13  Peripherals         3     285.89             0.12      754.75   \n",
            "14  Peripherals         1      24.23             0.27       17.69   \n",
            "15  Peripherals         4     467.11             0.25     1401.33   \n",
            "16     Software         1     306.57             0.14      263.65   \n",
            "17  Electronics         5     969.91             0.12     4267.60   \n",
            "18  Peripherals         3      94.49             0.26      209.77   \n",
            "19  Peripherals         1     402.41             0.02      394.36   \n",
            "\n",
            "      paymentmethod   region salespersonid  customerage     customergender  \n",
            "0              Cash    North         SP022         47.0  Prefer Not to Say  \n",
            "1   Online Transfer     West         SP064         40.0              Other  \n",
            "2       Credit Card  Central         SP064         39.0  Prefer Not to Say  \n",
            "3       Credit Card     West         SP100         52.0              Other  \n",
            "4   Online Transfer  Central         SP054         47.0             Female  \n",
            "5              Cash    North         SP076         39.0             Female  \n",
            "6   Online Transfer     West         SP094         51.0              Other  \n",
            "7              Cash    North         SP051         36.0               Male  \n",
            "8        Debit Card    North         SP087         21.0             Female  \n",
            "9   Online Transfer  Central         SP036         27.0               Male  \n",
            "10       Debit Card    North         SP015         24.0  Prefer Not to Say  \n",
            "11             Cash  Central         SP028         22.0               Male  \n",
            "12      Credit Card     West         SP064         65.0  Prefer Not to Say  \n",
            "13       Debit Card  Central         SP033         33.0              Other  \n",
            "14             Cash  Central         SP020         34.0               Male  \n",
            "15       Debit Card    South         SP029         48.0               Male  \n",
            "16      Credit Card     East         SP020         42.0               Male  \n",
            "17  Online Transfer    South         SP046         35.0  Prefer Not to Say  \n",
            "18             Cash    North         SP094         23.0              Other  \n",
            "19             Cash  Central         SP061         46.0              Other  \n"
          ]
        }
      ]
    },
    {
      "cell_type": "code",
      "source": [
        "# Check how many null values exist in each column\n",
        "print(df_cleaned.isnull().sum())\n",
        "print(\"Number of rows and columns:\", df_cleaned.shape)\n",
        "\n",
        "\n"
      ],
      "metadata": {
        "colab": {
          "base_uri": "https://localhost:8080/"
        },
        "id": "FlS7EbVA04Rc",
        "outputId": "7980c2bb-928e-41ce-89b5-99b469d75718"
      },
      "execution_count": 29,
      "outputs": [
        {
          "output_type": "stream",
          "name": "stdout",
          "text": [
            "transactionid      0\n",
            "date               0\n",
            "time               0\n",
            "customerid         0\n",
            "productid          0\n",
            "productname        0\n",
            "category           0\n",
            "quantity           0\n",
            "unitprice          0\n",
            "discountapplied    0\n",
            "totalprice         0\n",
            "paymentmethod      0\n",
            "region             0\n",
            "salespersonid      0\n",
            "customerage        0\n",
            "customergender     0\n",
            "dtype: int64\n",
            "Number of rows and columns: (4855, 16)\n"
          ]
        }
      ]
    }
  ]
}